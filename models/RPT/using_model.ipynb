{
 "cells": [
  {
   "cell_type": "markdown",
   "metadata": {},
   "source": [
    "# RP(T)\n",
    "\n",
    "BY \"Data Augmentation of Wearable Sensor Data for Parkinson’s Disease Monitor\"\n",
    "\n",
    "O modelo RPT (rotation, permutation e timeWrapping ) é um conjusto de funções estatisticas, que estão feitas para aplicar aos eixos x,y,z de uma medição específica.\n",
    "Logo para usar com accel e gyro, é preciso separar os dados nas duas medidas, gerar dados sinteticos separadamente e voltar a juntar\n",
    "\n",
    "Aqui estão disponíveis dois modelos, o RPT e o RP apenas. O RP obteve melhores resultados nos meus testes"
   ]
  },
  {
   "cell_type": "markdown",
   "metadata": {},
   "source": [
    "requirements:\n",
    "conda install transforms3d"
   ]
  },
  {
   "cell_type": "code",
   "execution_count": null,
   "metadata": {},
   "outputs": [],
   "source": [
    "import pandas as pd\n",
    "import numpy as np\n",
    "from model.rpt import augment_data\n",
    "from model.rp import rp_augmentation\n",
    "\n",
    "#Neste exemplo eu uso o rpt pela fn augment_data, para usar o rp é só trocar por rp_augmentation"
   ]
  },
  {
   "cell_type": "code",
   "execution_count": 9,
   "metadata": {},
   "outputs": [
    {
     "name": "stdout",
     "output_type": "stream",
     "text": [
      "Data shape (334584, 7)\n"
     ]
    },
    {
     "data": {
      "text/html": [
       "<div>\n",
       "<style scoped>\n",
       "    .dataframe tbody tr th:only-of-type {\n",
       "        vertical-align: middle;\n",
       "    }\n",
       "\n",
       "    .dataframe tbody tr th {\n",
       "        vertical-align: top;\n",
       "    }\n",
       "\n",
       "    .dataframe thead th {\n",
       "        text-align: right;\n",
       "    }\n",
       "</style>\n",
       "<table border=\"1\" class=\"dataframe\">\n",
       "  <thead>\n",
       "    <tr style=\"text-align: right;\">\n",
       "      <th></th>\n",
       "      <th>activity</th>\n",
       "      <th>x-accel</th>\n",
       "      <th>y-accel</th>\n",
       "      <th>z-accel</th>\n",
       "      <th>x-gyro</th>\n",
       "      <th>y-gyro</th>\n",
       "      <th>z-gyro</th>\n",
       "    </tr>\n",
       "  </thead>\n",
       "  <tbody>\n",
       "    <tr>\n",
       "      <th>0</th>\n",
       "      <td>1</td>\n",
       "      <td>-1.25869</td>\n",
       "      <td>5.42474</td>\n",
       "      <td>7.86577</td>\n",
       "      <td>-0.149700</td>\n",
       "      <td>0.075643</td>\n",
       "      <td>0.126064</td>\n",
       "    </tr>\n",
       "    <tr>\n",
       "      <th>1</th>\n",
       "      <td>1</td>\n",
       "      <td>-1.42397</td>\n",
       "      <td>5.42599</td>\n",
       "      <td>7.92634</td>\n",
       "      <td>-0.153853</td>\n",
       "      <td>0.061406</td>\n",
       "      <td>0.097976</td>\n",
       "    </tr>\n",
       "  </tbody>\n",
       "</table>\n",
       "</div>"
      ],
      "text/plain": [
       "   activity  x-accel  y-accel  z-accel    x-gyro    y-gyro    z-gyro\n",
       "0         1 -1.25869  5.42474  7.86577 -0.149700  0.075643  0.126064\n",
       "1         1 -1.42397  5.42599  7.92634 -0.153853  0.061406  0.097976"
      ]
     },
     "execution_count": 9,
     "metadata": {},
     "output_type": "execute_result"
    }
   ],
   "source": [
    "# RPT precisa de raw data\n",
    "data_path = \"../../data/raw/data_raw_train.csv\"\n",
    "data = pd.read_csv(data_path)\n",
    "\n",
    "print(\"Data shape\", data.shape)\n",
    "data.head(2)"
   ]
  },
  {
   "cell_type": "code",
   "execution_count": 10,
   "metadata": {},
   "outputs": [],
   "source": [
    "# Separar por atividade\n",
    "\n",
    "data_act_1 = data[data[\"activity\"] == 1]\n",
    "data_act_1 = data_act_1.drop(\"activity\", axis=1)\n",
    "data_act_2 = data[data[\"activity\"] == 2]\n",
    "data_act_2 = data_act_2.drop(\"activity\", axis=1)\n",
    "data_act_3 = data[data[\"activity\"] == 3]\n",
    "data_act_3 = data_act_3.drop(\"activity\", axis=1)\n",
    "data_act_5 = data[data[\"activity\"] == 5]\n",
    "data_act_5 = data_act_5.drop(\"activity\", axis=1)\n",
    "data_act_12 = data[data[\"activity\"] == 12]\n",
    "data_act_12 = data_act_12.drop(\"activity\", axis=1)\n",
    "data_act_13 = data[data[\"activity\"] == 13]\n",
    "data_act_13 = data_act_13.drop(\"activity\", axis=1)\n"
   ]
  },
  {
   "cell_type": "code",
   "execution_count": 11,
   "metadata": {},
   "outputs": [],
   "source": [
    "# Separar por medida\n",
    "data_act_1_accel = data_act_1[[\"x-accel\", \"y-accel\", \"z-accel\"]]\n",
    "data_act_1_gyro = data_act_1[[\"x-gyro\", \"y-gyro\", \"z-gyro\"]]\n",
    "\n",
    "data_act_2_accel = data_act_2[[\"x-accel\", \"y-accel\", \"z-accel\"]]\n",
    "data_act_2_gyro = data_act_2[[\"x-gyro\", \"y-gyro\", \"z-gyro\"]]\n",
    "\n",
    "data_act_3_accel = data_act_3[[\"x-accel\", \"y-accel\", \"z-accel\"]]\n",
    "data_act_3_gyro = data_act_3[[\"x-gyro\", \"y-gyro\", \"z-gyro\"]]\n",
    "\n",
    "data_act_5_accel = data_act_5[[\"x-accel\", \"y-accel\", \"z-accel\"]]\n",
    "data_act_5_gyro = data_act_5[[\"x-gyro\", \"y-gyro\", \"z-gyro\"]]\n",
    "\n",
    "data_act_12_accel = data_act_12[[\"x-accel\", \"y-accel\", \"z-accel\"]]\n",
    "data_act_12_gyro = data_act_12[[\"x-gyro\", \"y-gyro\", \"z-gyro\"]]\n",
    "\n",
    "data_act_13_accel = data_act_13[[\"x-accel\", \"y-accel\", \"z-accel\"]]\n",
    "data_act_13_gyro = data_act_13[[\"x-gyro\", \"y-gyro\", \"z-gyro\"]]"
   ]
  },
  {
   "cell_type": "markdown",
   "metadata": {},
   "source": [
    "## Gerar dados sintéticos"
   ]
  },
  {
   "cell_type": "code",
   "execution_count": null,
   "metadata": {},
   "outputs": [],
   "source": [
    "# Quantidade dos dados a gerar\n",
    "num_augmentations=1"
   ]
  },
  {
   "cell_type": "code",
   "execution_count": 21,
   "metadata": {},
   "outputs": [],
   "source": [
    "syn_data_act_1_accel = augment_data(data_act_1_accel, num_augmentations)\n",
    "syn_data_act_1_gyro = augment_data(data_act_1_gyro, num_augmentations)\n",
    "\n",
    "syn_data_act_2_accel = augment_data(data_act_2_accel, num_augmentations)\n",
    "syn_data_act_2_gyro = augment_data(data_act_2_gyro, num_augmentations)\n",
    "\n",
    "syn_data_act_3_accel = augment_data(data_act_3_accel, num_augmentations)\n",
    "syn_data_act_3_gyro = augment_data(data_act_3_gyro, num_augmentations)\n",
    "\n",
    "syn_data_act_5_accel = augment_data(data_act_5_accel, num_augmentations)\n",
    "syn_data_act_5_gyro = augment_data(data_act_5_gyro, num_augmentations)\n",
    "\n",
    "syn_data_act_12_accel = augment_data(data_act_12_accel, num_augmentations)\n",
    "syn_data_act_12_gyro = augment_data(data_act_12_gyro, num_augmentations)\n",
    "\n",
    "syn_data_act_13_accel = augment_data(data_act_13_accel, num_augmentations)\n",
    "syn_data_act_13_gyro = augment_data(data_act_13_gyro, num_augmentations)"
   ]
  },
  {
   "cell_type": "markdown",
   "metadata": {},
   "source": [
    "### Combinar os dados sintéticos"
   ]
  },
  {
   "cell_type": "code",
   "execution_count": 14,
   "metadata": {},
   "outputs": [],
   "source": [
    "syn_data_act_1 = pd.concat([syn_data_act_1_accel, syn_data_act_1_gyro], axis=1)\n",
    "syn_data_act_2 = pd.concat([syn_data_act_2_accel, syn_data_act_2_gyro], axis=1)\n",
    "syn_data_act_3 = pd.concat([syn_data_act_3_accel, syn_data_act_3_gyro], axis=1)\n",
    "syn_data_act_5 = pd.concat([syn_data_act_5_accel, syn_data_act_5_gyro], axis=1)\n",
    "syn_data_act_12 = pd.concat([syn_data_act_12_accel, syn_data_act_12_gyro], axis=1)\n",
    "syn_data_act_13 = pd.concat([syn_data_act_13_accel, syn_data_act_13_gyro], axis=1)"
   ]
  },
  {
   "cell_type": "code",
   "execution_count": 16,
   "metadata": {},
   "outputs": [
    {
     "name": "stdout",
     "output_type": "stream",
     "text": [
      "(334584, 7)\n"
     ]
    },
    {
     "data": {
      "text/html": [
       "<div>\n",
       "<style scoped>\n",
       "    .dataframe tbody tr th:only-of-type {\n",
       "        vertical-align: middle;\n",
       "    }\n",
       "\n",
       "    .dataframe tbody tr th {\n",
       "        vertical-align: top;\n",
       "    }\n",
       "\n",
       "    .dataframe thead th {\n",
       "        text-align: right;\n",
       "    }\n",
       "</style>\n",
       "<table border=\"1\" class=\"dataframe\">\n",
       "  <thead>\n",
       "    <tr style=\"text-align: right;\">\n",
       "      <th></th>\n",
       "      <th>x-accel</th>\n",
       "      <th>y-accel</th>\n",
       "      <th>z-accel</th>\n",
       "      <th>x-gyro</th>\n",
       "      <th>y-gyro</th>\n",
       "      <th>z-gyro</th>\n",
       "      <th>activity</th>\n",
       "    </tr>\n",
       "  </thead>\n",
       "  <tbody>\n",
       "    <tr>\n",
       "      <th>0</th>\n",
       "      <td>-4.739576</td>\n",
       "      <td>-7.805716</td>\n",
       "      <td>-3.808958</td>\n",
       "      <td>-0.170322</td>\n",
       "      <td>0.102658</td>\n",
       "      <td>-0.066902</td>\n",
       "      <td>1</td>\n",
       "    </tr>\n",
       "    <tr>\n",
       "      <th>1</th>\n",
       "      <td>-4.739523</td>\n",
       "      <td>-7.805716</td>\n",
       "      <td>-3.809880</td>\n",
       "      <td>-0.170322</td>\n",
       "      <td>0.102658</td>\n",
       "      <td>-0.063170</td>\n",
       "      <td>1</td>\n",
       "    </tr>\n",
       "  </tbody>\n",
       "</table>\n",
       "</div>"
      ],
      "text/plain": [
       "    x-accel   y-accel   z-accel    x-gyro    y-gyro    z-gyro  activity\n",
       "0 -4.739576 -7.805716 -3.808958 -0.170322  0.102658 -0.066902         1\n",
       "1 -4.739523 -7.805716 -3.809880 -0.170322  0.102658 -0.063170         1"
      ]
     },
     "execution_count": 16,
     "metadata": {},
     "output_type": "execute_result"
    }
   ],
   "source": [
    "syn_data_act_1[\"activity\"] = 1\n",
    "syn_data_act_2[\"activity\"] = 2\n",
    "syn_data_act_3[\"activity\"] = 3\n",
    "syn_data_act_5[\"activity\"] = 5\n",
    "syn_data_act_12[\"activity\"] = 12\n",
    "syn_data_act_13[\"activity\"] = 13\n",
    "\n",
    "syn_data = pd.concat([syn_data_act_1, syn_data_act_2, syn_data_act_3, syn_data_act_5, syn_data_act_12, syn_data_act_13], axis=0).reset_index(drop=True) \n",
    "\n",
    "print(syn_data.shape)\n",
    "syn_data.head(2)"
   ]
  },
  {
   "cell_type": "code",
   "execution_count": null,
   "metadata": {},
   "outputs": [],
   "source": [
    "syn_data.to_csv(\"synthetic_data.csv\", index=False)"
   ]
  }
 ],
 "metadata": {
  "kernelspec": {
   "display_name": "testing",
   "language": "python",
   "name": "python3"
  },
  "language_info": {
   "codemirror_mode": {
    "name": "ipython",
    "version": 3
   },
   "file_extension": ".py",
   "mimetype": "text/x-python",
   "name": "python",
   "nbconvert_exporter": "python",
   "pygments_lexer": "ipython3",
   "version": "3.9.20"
  }
 },
 "nbformat": 4,
 "nbformat_minor": 2
}
