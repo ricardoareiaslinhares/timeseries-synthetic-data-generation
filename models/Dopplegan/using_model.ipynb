{
 "cells": [
  {
   "cell_type": "markdown",
   "metadata": {},
   "source": [
    "# Dopplegan\n",
    "\n",
    "Neste modelo uso uma library (gretel_synthetics), mas não a instalo com pip, fiz download pelo github e uso-a diretamente\n",
    "\n",
    "Requirements:\n",
    "category-encoders"
   ]
  },
  {
   "cell_type": "code",
   "execution_count": null,
   "metadata": {},
   "outputs": [],
   "source": [
    "import torch\n",
    "import pandas as pd\n",
    "import numpy as np\n",
    "from gretel_synthetics.timeseries_dgan.dgan import DGAN\n",
    "from gretel_synthetics.timeseries_dgan.config import DGANConfig, OutputType"
   ]
  },
  {
   "cell_type": "code",
   "execution_count": null,
   "metadata": {},
   "outputs": [],
   "source": [
    "# Dopplegan precisa dos sequenciados\n",
    "# Os dados são pesados para carregar tudo\n",
    "data_path = \"../../data/sequences/\"\n",
    "\n",
    "data_act_1_windows = np.load(data_path + \"data_train_act_1_windows.npy\", allow_pickle=True)\n",
    "#data_act_2_windows = np.load(data_path + \"data_train_act_2_windows.npy\", allow_pickle=True)\n",
    "#data_act_3_windows = np.load(data_path + \"data_train_act_3_windows.npy\", allow_pickle=True)\n",
    "#data_act_5_windows = np.load(data_path + \"data_train_act_5_windows.npy\", allow_pickle=True)\n",
    "#data_act_12_windows = np.load(data_path + \"data_train_act_12_windows.npy\", allow_pickle=True)\n",
    "#data_act_13_windows = np.load(data_path + \"data_train_act_13_windows.npy\", allow_pickle=True)\n",
    "\n",
    "\n",
    "\n",
    "print(data_act_1_windows.shape)"
   ]
  },
  {
   "cell_type": "code",
   "execution_count": null,
   "metadata": {},
   "outputs": [],
   "source": [
    "# CHOOSE ACGTIVITY DATA TO FEED THE MODEL\n",
    "data = data_act_1_windows\n",
    "name = \"synthetic_dgan_act_1\"\n",
    "print(\"Training and generating \", name)"
   ]
  },
  {
   "cell_type": "code",
   "execution_count": null,
   "metadata": {},
   "outputs": [],
   "source": [
    "# Train DGAN model\n",
    "model = DGAN(\n",
    "    DGANConfig(\n",
    "        max_sequence_len=600,  # data.shape[1],\n",
    "        sample_len=12,\n",
    "        batch_size=min(1000, data.shape[0]),\n",
    "        apply_feature_scaling=True,\n",
    "        apply_example_scaling=False,\n",
    "        use_attribute_discriminator=False,\n",
    "        generator_learning_rate=1e-4,\n",
    "        discriminator_learning_rate=1e-4,\n",
    "        epochs=10000,\n",
    "    )\n",
    ")\n",
    "\n",
    "model.train_numpy(\n",
    "    data,\n",
    "    feature_types=[OutputType.CONTINUOUS] * data.shape[2],\n",
    ")\n"
   ]
  },
  {
   "cell_type": "code",
   "execution_count": null,
   "metadata": {},
   "outputs": [],
   "source": [
    "# Generate synthetic data\n",
    "_, synthetic_features = model.generate_numpy(100000)\n",
    "\n",
    "model.save(name + \"_model.pt\")\n",
    "\n",
    "np_data = np.array(synthetic_features)\n",
    "np.save(\"synthetic_features_1.npy\", np_data)"
   ]
  }
 ],
 "metadata": {
  "kernelspec": {
   "display_name": "testing",
   "language": "python",
   "name": "python3"
  },
  "language_info": {
   "codemirror_mode": {
    "name": "ipython",
    "version": 3
   },
   "file_extension": ".py",
   "mimetype": "text/x-python",
   "name": "python",
   "nbconvert_exporter": "python",
   "pygments_lexer": "ipython3",
   "version": "3.9.20"
  }
 },
 "nbformat": 4,
 "nbformat_minor": 2
}
