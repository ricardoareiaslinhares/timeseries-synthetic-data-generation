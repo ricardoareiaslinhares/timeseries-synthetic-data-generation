{
 "cells": [
  {
   "cell_type": "markdown",
   "metadata": {},
   "source": [
    "# Timegan pytorch version\n",
    "\n",
    "BY https://github.com/zzw-zwzhang/TimeGAN-pytorch"
   ]
  },
  {
   "cell_type": "code",
   "execution_count": null,
   "metadata": {},
   "outputs": [],
   "source": [
    "import pandas as pd\n",
    "import numpy as np\n",
    "import warnings\n",
    "\n",
    "warnings.filterwarnings(\"ignore\")\n",
    "\n",
    "\n",
    "from model.settings import TimeGANSettings\n",
    "from model.data import load_data_2\n",
    "from model.timegan import TimeGAN\n"
   ]
  },
  {
   "cell_type": "code",
   "execution_count": null,
   "metadata": {},
   "outputs": [],
   "source": [
    "# Timegan pytorch precisa dos dados raw, mas separados por atividade\n",
    "## precisa de um np array de df de atividades\n",
    "data_path = \"../../data/array_of_df_per_activity/np_array_of_activities_1_2_3_5_12_13.npy\"\n",
    "\n",
    "peak_data = np.load(data_path, allow_pickle=True)\n",
    "peak_data[0].head(2) # retorna o df da atividade 1\n"
   ]
  },
  {
   "cell_type": "code",
   "execution_count": null,
   "metadata": {},
   "outputs": [],
   "source": [
    "# CHANGE HERE THE ACTIVITY\n",
    "activity_number = 1\n",
    "###################\n",
    "activity_number_str = str(activity_number)\n",
    "\"\"\"\n",
    "index - activity label\n",
    "0 = 1\n",
    "1 = 2\n",
    "2 = 3\n",
    "3 = 5\n",
    "4 = 12\n",
    "5 = 13\n",
    "\"\"\""
   ]
  },
  {
   "cell_type": "code",
   "execution_count": null,
   "metadata": {},
   "outputs": [],
   "source": [
    "timegan_settings = TimeGANSettings()\n",
    "\n",
    "timegan_settings.data_name = data_path\n",
    "\n",
    "timegan_settings.activity = activity_number  # index of the activity\n",
    "timegan_settings.columns = [\n",
    "    \"x-accel\",\n",
    "    \"y-accel\",\n",
    "    \"z-accel\",\n",
    "    \"x-gyro\",\n",
    "    \"y-gyro\",\n",
    "    \"z-gyro\",\n",
    "]  # only the columns you want to keep\n",
    "timegan_settings.sampling_rate = 100\n",
    "timegan_settings.seconds = 6\n",
    "timegan_settings.iteration = 50000\n",
    "timegan_settings.name = \"_act_\" + activity_number_str + \"_\"\n",
    "#timegan_settings.resume = \"_act_2_/train/weights/\" \n",
    "print(\"activity settings name\", timegan_settings.name)"
   ]
  },
  {
   "cell_type": "code",
   "execution_count": null,
   "metadata": {},
   "outputs": [],
   "source": [
    "data_act = load_data_2(timegan_settings)\n",
    "\n",
    "model_act = TimeGAN(timegan_settings, data_act)\n",
    "\n",
    "model_act.train()\n",
    "\n",
    "num_samples = 10000\n",
    "synthetic_data_act = model_act.generation(num_samples)\n",
    "\n",
    "np.save(\"synthetic_data_act_\" + activity_number_str + \".npy\", synthetic_data_act)"
   ]
  },
  {
   "cell_type": "code",
   "execution_count": null,
   "metadata": {},
   "outputs": [],
   "source": [
    "num_samples = 10000\n",
    "synthetic_data_act = model_act.generation(num_samples)\n",
    "\n",
    "np.save(\"synthetic_data_act_\" + activity_number_str + \".npy\", synthetic_data_act)"
   ]
  }
 ],
 "metadata": {
  "kernelspec": {
   "display_name": "testing",
   "language": "python",
   "name": "python3"
  },
  "language_info": {
   "codemirror_mode": {
    "name": "ipython",
    "version": 3
   },
   "file_extension": ".py",
   "mimetype": "text/x-python",
   "name": "python",
   "nbconvert_exporter": "python",
   "pygments_lexer": "ipython3",
   "version": "3.9.20"
  }
 },
 "nbformat": 4,
 "nbformat_minor": 2
}
