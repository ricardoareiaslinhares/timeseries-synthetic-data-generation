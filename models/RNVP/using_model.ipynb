{
 "cells": [
  {
   "cell_type": "markdown",
   "metadata": {},
   "source": [
    "# Real NVP\n",
    "\n",
    "BY: https://openreview.net/pdf?id=PpshD0AXfA"
   ]
  },
  {
   "cell_type": "code",
   "execution_count": null,
   "metadata": {},
   "outputs": [],
   "source": [
    "from model.SequentialFlows import  RealNVP\n",
    "import pandas as pd"
   ]
  },
  {
   "cell_type": "code",
   "execution_count": 2,
   "metadata": {},
   "outputs": [
    {
     "data": {
      "text/html": [
       "<div>\n",
       "<style scoped>\n",
       "    .dataframe tbody tr th:only-of-type {\n",
       "        vertical-align: middle;\n",
       "    }\n",
       "\n",
       "    .dataframe tbody tr th {\n",
       "        vertical-align: top;\n",
       "    }\n",
       "\n",
       "    .dataframe thead th {\n",
       "        text-align: right;\n",
       "    }\n",
       "</style>\n",
       "<table border=\"1\" class=\"dataframe\">\n",
       "  <thead>\n",
       "    <tr style=\"text-align: right;\">\n",
       "      <th></th>\n",
       "      <th>activity</th>\n",
       "      <th>x-accel</th>\n",
       "      <th>y-accel</th>\n",
       "      <th>z-accel</th>\n",
       "      <th>x-gyro</th>\n",
       "      <th>y-gyro</th>\n",
       "      <th>z-gyro</th>\n",
       "    </tr>\n",
       "  </thead>\n",
       "  <tbody>\n",
       "    <tr>\n",
       "      <th>0</th>\n",
       "      <td>1</td>\n",
       "      <td>-1.25869</td>\n",
       "      <td>5.42474</td>\n",
       "      <td>7.86577</td>\n",
       "      <td>-0.149700</td>\n",
       "      <td>0.075643</td>\n",
       "      <td>0.126064</td>\n",
       "    </tr>\n",
       "    <tr>\n",
       "      <th>1</th>\n",
       "      <td>1</td>\n",
       "      <td>-1.42397</td>\n",
       "      <td>5.42599</td>\n",
       "      <td>7.92634</td>\n",
       "      <td>-0.153853</td>\n",
       "      <td>0.061406</td>\n",
       "      <td>0.097976</td>\n",
       "    </tr>\n",
       "  </tbody>\n",
       "</table>\n",
       "</div>"
      ],
      "text/plain": [
       "   activity  x-accel  y-accel  z-accel    x-gyro    y-gyro    z-gyro\n",
       "0         1 -1.25869  5.42474  7.86577 -0.149700  0.075643  0.126064\n",
       "1         1 -1.42397  5.42599  7.92634 -0.153853  0.061406  0.097976"
      ]
     },
     "execution_count": 2,
     "metadata": {},
     "output_type": "execute_result"
    }
   ],
   "source": [
    "# Real NVP precisa dos dados raw, por atividade\n",
    "\n",
    "data_path = \"../../data/raw/data_raw_train.csv\"\n",
    "\n",
    "data = pd.read_csv(data_path)\n",
    "data.head(2)\n"
   ]
  },
  {
   "cell_type": "code",
   "execution_count": 3,
   "metadata": {},
   "outputs": [],
   "source": [
    "# Separar por atividade\n",
    "data_act = data[data['activity'] == 12]\n",
    "data_act = data_act.drop([\"activity\"], axis=1)"
   ]
  },
  {
   "cell_type": "code",
   "execution_count": 4,
   "metadata": {},
   "outputs": [
    {
     "name": "stdout",
     "output_type": "stream",
     "text": [
      "(43621, 6)\n"
     ]
    }
   ],
   "source": [
    "n_samples = data_act.shape[0]\n",
    "T = data_act.shape[1]\n",
    "print(data_act.shape)"
   ]
  },
  {
   "cell_type": "code",
   "execution_count": 5,
   "metadata": {},
   "outputs": [],
   "source": [
    "X = data_act.values"
   ]
  },
  {
   "cell_type": "code",
   "execution_count": 7,
   "metadata": {},
   "outputs": [],
   "source": [
    "RVP_model = RealNVP(hidden=200, T=T, n_flows=10) "
   ]
  },
  {
   "cell_type": "code",
   "execution_count": 8,
   "metadata": {},
   "outputs": [
    {
     "name": "stdout",
     "output_type": "stream",
     "text": [
      "step: 0 \t/ 1000 \t----------\tloss: 410.104\n",
      "step: 100 \t/ 1000 \t|---------\tloss: 17.474\n",
      "step: 200 \t/ 1000 \t||--------\tloss: 14.758\n",
      "step: 300 \t/ 1000 \t|||-------\tloss: 13.348\n",
      "step: 400 \t/ 1000 \t||||------\tloss: 13.136\n",
      "step: 500 \t/ 1000 \t|||||-----\tloss: 13.035\n",
      "step: 600 \t/ 1000 \t||||||----\tloss: 12.954\n",
      "step: 700 \t/ 1000 \t|||||||---\tloss: 12.885\n",
      "step: 800 \t/ 1000 \t||||||||--\tloss: 12.824\n",
      "step: 900 \t/ 1000 \t|||||||||-\tloss: 12.772\n",
      "step: 999 \t/ 1000 \t||||||||||\tloss: 12.718\n",
      "Finished training!\n"
     ]
    }
   ],
   "source": [
    "RVP_losses  = RVP_model.fit(X, epochs=1000, batch_size=512, \n",
    "                            learning_rate=1e-3, display_step=100)"
   ]
  },
  {
   "cell_type": "code",
   "execution_count": null,
   "metadata": {},
   "outputs": [],
   "source": [
    "synthetic_RVP = RVP_model.sample(100000)\n",
    "pd.DataFrame(synthetic_RVP).to_csv(\"../../data/synthetic/rnvp_100000_act_12.csv\", index=False)"
   ]
  },
  {
   "cell_type": "code",
   "execution_count": 11,
   "metadata": {},
   "outputs": [
    {
     "name": "stdout",
     "output_type": "stream",
     "text": [
      "(100000, 6)\n"
     ]
    }
   ],
   "source": [
    "print(synthetic_RVP.shape)"
   ]
  }
 ],
 "metadata": {
  "kernelspec": {
   "display_name": "testing",
   "language": "python",
   "name": "python3"
  },
  "language_info": {
   "codemirror_mode": {
    "name": "ipython",
    "version": 3
   },
   "file_extension": ".py",
   "mimetype": "text/x-python",
   "name": "python",
   "nbconvert_exporter": "python",
   "pygments_lexer": "ipython3",
   "version": "3.9.20"
  }
 },
 "nbformat": 4,
 "nbformat_minor": 2
}
